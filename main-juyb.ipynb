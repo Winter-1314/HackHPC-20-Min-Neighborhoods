{
 "cells": [
  {
   "cell_type": "markdown",
   "id": "2e23b1e0-68a3-442a-89fc-8e19796cec5b",
   "metadata": {
    "tags": []
   },
   "source": [
    "# HackHPC-20-Min-Neighborhoods\n",
    "\n",
    "## Description:\n",
    "  This program is an evalutation tool in Python using Googlemaps python library to find the places within a 20 minute walk or bike ride. These places include hospitals, pharmacies, grocery stores, all basic need providers. This tool can be used to determine if a neighborhood is accessible by determining how many of these places are available in a 20 min range. \n",
    " \n",
    "## More Info:\n",
    "This project is part of HackHPC - SC22's HPC in the City: Dallas hackathon\n",
    "\n",
    "   - [SC22's HPC in the City: Dallas - Page](https://hackhpc.github.io/HPCintheCity22/)\n",
    "    \n",
    "   - [Github](https://github.com/Winter-1314/HackHPC-20-Min-Neighborhoods)\n",
    "   \n",
    " # Program:\n",
    " Install all the libraries required."
   ]
  },
  {
   "cell_type": "code",
   "execution_count": null,
   "id": "93128bd4-01f6-4b34-b23e-a9edd9d763c1",
   "metadata": {},
   "outputs": [
    {
     "name": "stdout",
     "output_type": "stream",
     "text": [
      "Defaulting to user installation because normal site-packages is not writeable\n",
      "Requirement already satisfied: googlemaps in ./.local/lib/python3.6/site-packages (4.6.0)\n",
      "Requirement already satisfied: requests<3.0,>=2.20.0 in /usr/local/lib/python3.6/site-packages (from googlemaps) (2.27.1)\n",
      "Requirement already satisfied: charset-normalizer~=2.0.0 in /usr/local/lib/python3.6/site-packages (from requests<3.0,>=2.20.0->googlemaps) (2.0.12)\n",
      "Requirement already satisfied: urllib3<1.27,>=1.21.1 in /usr/lib/python3.6/site-packages (from requests<3.0,>=2.20.0->googlemaps) (1.25.6)\n",
      "Requirement already satisfied: certifi>=2017.4.17 in /usr/local/lib/python3.6/site-packages (from requests<3.0,>=2.20.0->googlemaps) (2022.6.15)\n",
      "Requirement already satisfied: idna<4,>=2.5 in /usr/lib/python3.6/site-packages (from requests<3.0,>=2.20.0->googlemaps) (2.10)\n"
     ]
    }
   ],
   "source": [
    "!pip install googlemaps\n",
    "!pip install gmaps"
   ]
  },
  {
   "cell_type": "markdown",
   "id": "0bee894e-0ca5-4183-bfc8-ce35db4ade25",
   "metadata": {},
   "source": [
    "### Define Global Var"
   ]
  },
  {
   "cell_type": "code",
   "execution_count": 5,
   "id": "804dae85-c119-414a-af1c-899d3219d870",
   "metadata": {},
   "outputs": [],
   "source": [
    "RADIUS = [10000, 1000, 1600, 2000]\n",
    "ACTIONS = [\"Y\", \"N\"]\n",
    "MODE_OF_TRANS = [\"driving\", \"walking\", \"bicycling\", \"transit\"]\n",
    "FIND_PLACE_TEXTQUERY = \"textquery\"\n",
    "FIND_PLACE_PHONENUMBER = \"phonenumber\"\n",
    "PLACE_ID = \"place_id\"\n",
    "ADDRESS_COMMA = [\"locality\", \"route\"]\n",
    "ADDRESS_NEWLINE = [\"point_of_interest\", \"establishment\"]\n",
    "ADDRESS_IGNORE = [\"administrative_area_level_2\", \"administrative_area_level_3\"]"
   ]
  },
  {
   "cell_type": "markdown",
   "id": "eeaecf33-2486-4ca6-ab23-5de7161f3549",
   "metadata": {},
   "source": [
    "### Setup API with APU Key For Use"
   ]
  },
  {
   "cell_type": "code",
   "execution_count": 6,
   "id": "6f935439-f2fa-4fd1-abbc-73d4c9389ba8",
   "metadata": {},
   "outputs": [
    {
     "ename": "NameError",
     "evalue": "name 'googlemaps' is not defined",
     "output_type": "error",
     "traceback": [
      "\u001b[0;31m---------------------------------------------------------------------------\u001b[0m",
      "\u001b[0;31mNameError\u001b[0m                                 Traceback (most recent call last)",
      "\u001b[0;32m<ipython-input-6-1c8363a93ef5>\u001b[0m in \u001b[0;36m<module>\u001b[0;34m\u001b[0m\n\u001b[1;32m      2\u001b[0m     \u001b[0mapi_key\u001b[0m \u001b[0;34m=\u001b[0m \u001b[0mf\u001b[0m\u001b[0;34m.\u001b[0m\u001b[0mreadline\u001b[0m\u001b[0;34m(\u001b[0m\u001b[0;34m)\u001b[0m\u001b[0;34m\u001b[0m\u001b[0;34m\u001b[0m\u001b[0m\n\u001b[1;32m      3\u001b[0m     \u001b[0mf\u001b[0m\u001b[0;34m.\u001b[0m\u001b[0mclose\u001b[0m\u001b[0;34m\u001b[0m\u001b[0;34m\u001b[0m\u001b[0m\n\u001b[0;32m----> 4\u001b[0;31m \u001b[0mgomaps\u001b[0m \u001b[0;34m=\u001b[0m \u001b[0mgooglemaps\u001b[0m\u001b[0;34m.\u001b[0m\u001b[0mClient\u001b[0m\u001b[0;34m(\u001b[0m\u001b[0mkey\u001b[0m\u001b[0;34m=\u001b[0m\u001b[0mapi_key\u001b[0m\u001b[0;34m)\u001b[0m\u001b[0;34m\u001b[0m\u001b[0;34m\u001b[0m\u001b[0m\n\u001b[0m",
      "\u001b[0;31mNameError\u001b[0m: name 'googlemaps' is not defined"
     ]
    }
   ],
   "source": [
    "with open('key.txt') as f:\n",
    "    api_key = f.readline()\n",
    "    f.close\n",
    "gomaps = googlemaps.Client(key=api_key)"
   ]
  },
  {
   "cell_type": "markdown",
   "id": "3819b0d7-d0f8-456c-b14c-7b035d672c89",
   "metadata": {},
   "source": [
    "## Define all user interaction functions:"
   ]
  },
  {
   "cell_type": "code",
   "execution_count": null,
   "id": "4a26feaa-aefc-4388-802d-b1415bf13a4e",
   "metadata": {},
   "outputs": [],
   "source": [
    "def collectInfo() -> str:\n",
    "    \"\"\"\n",
    "    Collects the address of the location that the user is looking for.\n",
    "    :return: The address of the location the user entered\n",
    "    :rtype: str\n",
    "    \"\"\"\n",
    "    # First Collect Address From User - Input\n",
    "    num_of_attept = 0\n",
    "    correct_location = False\n",
    "    while correct_location != True:\n",
    "        list_of_locations = []\n",
    "        if num_of_attept > 0:\n",
    "            print(\"Please enter a more detailed address.\")\n",
    "        search_place = input(\n",
    "            \"Please enter a name, address, or phone number as your starting location:\\n\"\n",
    "        )\n",
    "        origin_location = gomaps.find_place(input=search_place,\n",
    "                                            input_type=FIND_PLACE_TEXTQUERY)\n",
    "        origin_location_status = origin_location.get(\"status\")\n",
    "        while (origin_location_status != \"OK\"):\n",
    "            search_place = input(\n",
    "                \"Invaild Location!\\nPlease enter a name, address, or phone number as your starting location:\\n\"\n",
    "            )\n",
    "            origin_location = gomaps.find_place(\n",
    "                input=search_place, input_type=FIND_PLACE_TEXTQUERY)\n",
    "            origin_location_status = origin_location.get(\"status\")\n",
    "        origin_location_place_id = origin_location.get(\"candidates\")\n",
    "        for places in origin_location_place_id:\n",
    "            location_data = gomaps.place(place_id=places.get(PLACE_ID))\n",
    "            location_address = location_data.get(\"result\").get(\n",
    "                \"address_components\")\n",
    "            address_string = \"\"\n",
    "            for parts in location_address:\n",
    "                type_address = parts.get(\"types\")[0]\n",
    "                if type_address in ADDRESS_IGNORE:\n",
    "                    continue\n",
    "                elif type_address in ADDRESS_NEWLINE:\n",
    "                    address_string = address_string + \" \" + parts.get(\n",
    "                        \"long_name\") + \"\\n\"\n",
    "                elif type_address in ADDRESS_COMMA:\n",
    "                    address_string = address_string + \" \" + parts.get(\n",
    "                        \"long_name\") + \",\"\n",
    "                else:\n",
    "                    address_string = address_string + \" \" + parts.get(\n",
    "                        \"long_name\")\n",
    "            list_of_locations.append(address_string)\n",
    "        temp = input(\n",
    "            f\"Is this address below your address?(Y/N):\\n{list_of_locations[0]}\\n\"\n",
    "        )\n",
    "        while temp.upper() not in ACTIONS:\n",
    "            temp = input(\"Please enter Y for Yes and N for no (Y/N):\\n\")\n",
    "        if temp.upper() == \"Y\":\n",
    "            correct_location = True\n",
    "        num_of_attept += 1\n",
    "    return list_of_locations[0]\n",
    "\n",
    "\n",
    "def collectTransportation() -> int:\n",
    "    \"\"\"\n",
    "    Collects the type of transportion that the data is going to be calculated for\n",
    "    :return: The number that correspondes to the type of transportation\n",
    "    :rtype: int\n",
    "    \"\"\"\n",
    "    # Secondly, Collects Transportation Method From User - Input\n",
    "    type_of_trans = input(\n",
    "        f\"What type of transportation do you want to use?\\n\\t1.{MODE_OF_TRANS[0]}\\n\\t2.{MODE_OF_TRANS[1]}\\n\\t3.{MODE_OF_TRANS[2]}\\n\\t4.{MODE_OF_TRANS[3]}\\nPlease enter a number between 1-4:\\n\"\n",
    "    )\n",
    "    while int(type_of_trans) not in [1, 2, 3, 4]:\n",
    "        print(\"Please make sure you enter a number is and that is between 1-4\")\n",
    "        type_of_trans = input(\n",
    "            f\"What type of transportation do you want to use?\\n\\t1.{MODE_OF_TRANS[0]}\\n\\t2.{MODE_OF_TRANS[1]}\\n\\t3.{MODE_OF_TRANS[2]}\\n\\t4.{MODE_OF_TRANS[3]}\\nPlease enter a number between 1-4:\\n\"\n",
    "        )\n",
    "    return int(type_of_trans) - 1"
   ]
  },
  {
   "cell_type": "markdown",
   "id": "b44bc1f9-b870-4110-bb4a-a89d58cff820",
   "metadata": {},
   "source": [
    "## Define all computational functions:"
   ]
  },
  {
   "cell_type": "code",
   "execution_count": null,
   "id": "98353c27-6a8c-4803-8372-e5a84b83f352",
   "metadata": {},
   "outputs": [],
   "source": [
    "\n",
    "def getGeoCode(address: str) -> list:\n",
    "    \"\"\"\n",
    "    Given address get GeoCode that includes the lat and long version of that address\n",
    "    :param address: The address we want to get the GeoCode\n",
    "    :type address: str\n",
    "    :return: The long and lat in list format\n",
    "    :rtype: list\n",
    "    \"\"\"\n",
    "    # Convert User Collected Address to Lat and Long - geocode()\n",
    "    location_geocode = gomaps.geocode(address=address)\n",
    "    lat = location_geocode[0].get(\"geometry\").get(\"location\").get(\"lat\")\n",
    "    long = location_geocode[0].get(\"geometry\").get(\"location\").get(\"lng\")\n",
    "    lat_long_lst = [lat, long]\n",
    "    return lat_long_lst\n",
    "\n",
    "\n",
    "def serechForPlaces(lat_long: list, radius: int, type: str = None) -> dict:\n",
    "    \"\"\"\n",
    "    Computes all the locations that are near the address provided as a lat/long\n",
    "    :param lat_long: List version of the lat and long\n",
    "    :type lat_long: list\n",
    "    :param radius: The radius that we want to search from the lat and long\n",
    "    :type radius: int\n",
    "    :param type: Any specific type of location we want to look for\n",
    "    :type type: str\n",
    "    :return: A dictionary with all the locations nearby\n",
    "    :rtype: dict\n",
    "    \"\"\"\n",
    "    # Serech for places near an address in a radius and type - places_nearby()\n",
    "    location_dict = {}\n",
    "    if type == None:\n",
    "        search_info = gomaps.places_nearby(location=lat_long, radius=radius)\n",
    "    else:\n",
    "        search_info = gomaps.places_nearby(location=lat_long,\n",
    "                                           radius=radius,\n",
    "                                           type=type)\n",
    "    search_result = search_info.get(\"results\")\n",
    "    for index in search_result:\n",
    "        location_dict[index.get(\"name\")] = {}\n",
    "        location_dict[index.get(\"name\")][\"status\"] = index.get(\n",
    "            \"business_status\")\n",
    "        location_dict[index.get(\"name\")][\"place_id\"] = index.get(\"place_id\")\n",
    "        location_dict[index.get(\"name\")][\"rating\"] = index.get(\"rating\")\n",
    "        location_dict[index.get(\"name\")][\"lat\"] = index.get(\"geometry\").get(\n",
    "            \"location\").get(\"lat\")\n",
    "        location_dict[index.get(\"name\")][\"lng\"] = index.get(\"geometry\").get(\n",
    "            \"location\").get(\"lng\")\n",
    "        location_dict[index.get(\"name\")][\"classification\"] = index.get(\"types\")\n",
    "        location_dict[index.get(\"name\")][\"price_lvl\"] = index.get(\n",
    "            \"price_level\")\n",
    "        location_dict[index.get(\"name\")][\"pull_address\"] = index.get(\n",
    "            \"vicinity\")\n",
    "    return location_dict\n",
    "\n",
    "\n",
    "def displayPlaces(dict_of_location: dict) -> None:\n",
    "    \"\"\"\n",
    "    Given a list of location display it in a nicely readable format\n",
    "    :param dict_of_location: A dictionary with all the locations nearby\n",
    "    :type dict_of_location: dict\n",
    "    :return: None\n",
    "    :rtype: None\n",
    "    \"\"\"\n",
    "    # Neatly Display The List Of Locations within 20 Minutes Of the Users Input Location And Transportation Method\n",
    "    for location in dict_of_location:\n",
    "        print(f\"{location}:\")\n",
    "        for item in dict_of_location[location]:\n",
    "            print(f\"{item}:{dict_of_location[location][item]}\")\n",
    "        print(f'\\n{\"*\":*^25}\\n')\n",
    "\n",
    "\n",
    "def addLocationAddressData(locations_dict: dict) -> None:\n",
    "    \"\"\"\n",
    "    Given a dictionary of all location add their address to the dict\n",
    "    :param locations_dict: A dictionary with all the locations nearby\n",
    "    :type locations_dict: dict\n",
    "    :return: None\n",
    "    :rtype: None\n",
    "    \"\"\"\n",
    "    # Convert the list of location to list of addresses - reverse_geocode()\n",
    "    for location in locations_dict:\n",
    "        locations_dict[location][\"address\"] = gomaps.reverse_geocode(\n",
    "            latlng=locations_dict[location][\"place_id\"])[0].get(\n",
    "                \"formatted_address\")\n",
    "\n",
    "\n",
    "def computeTime(locations_dict: dict, origin: str, mode: str) -> None:\n",
    "    \"\"\"\n",
    "    Given a dictionary of all location, the starting address, and mode of transportation compute the time it takes to get to each location and add to dict.\n",
    "    :param locations_dict: A dictionary with all the locations nearby\n",
    "    :type locations_dict: dict\n",
    "    :param origin: The address of the starting location\n",
    "    :type origin: str\n",
    "    :param mode: The type of transportation\n",
    "    :type mode: str\n",
    "    :return: None\n",
    "    :rtype: None\n",
    "    \"\"\"\n",
    "    # Make a list of Matrix for each type of transportation - distance_matrix()\n",
    "    for location in locations_dict:\n",
    "        locations_dict[location][\"travel_time\"] = gomaps.distance_matrix(\n",
    "            origins=origin,\n",
    "            destinations=locations_dict[location].get(\"address\"),\n",
    "            mode=mode)[\"rows\"][0][\"elements\"][0].get(\"duration\",\n",
    "                                                     {}).get(\"text\", {})\n",
    "\n",
    "\n",
    "def removeFarLocations(locations_dict):\n",
    "    \"\"\"\n",
    "    Given a dictionary of all location remove any location that is more then 20 min away\n",
    "    :param locations_dict: A dictionary with all the locations nearby\n",
    "    :type locations_dict: dict\n",
    "    :return: None\n",
    "    :rtype: None\n",
    "    \"\"\"\n",
    "    #Remove locations that were found further than 20 minutes from your specified location -\n",
    "    for location in list(locations_dict.keys()):\n",
    "        if \"hours\" in locations_dict[location][\n",
    "                \"travel_time\"] or \"hour\" in locations_dict[location][\n",
    "                    \"travel_time\"]:\n",
    "            del locations_dict[location]\n",
    "    for location in list(locations_dict.keys()):\n",
    "        num = locations_dict[location][\"travel_time\"]\n",
    "        if len(num) == 0 or int(num.split()[0]) > 20:\n",
    "            del locations_dict[location]"
   ]
  },
  {
   "cell_type": "markdown",
   "id": "e21a09c2-2c82-4d49-b18c-12f515270f4e",
   "metadata": {},
   "source": [
    "# Main Of Applications:\n",
    "\n",
    "#### Get the starting location from the user"
   ]
  },
  {
   "cell_type": "code",
   "execution_count": null,
   "id": "51f14952-0d0f-49f4-9e86-d566b42e35d1",
   "metadata": {},
   "outputs": [],
   "source": [
    "origin_location = collectInfo()"
   ]
  },
  {
   "cell_type": "markdown",
   "id": "40197daa-737c-4c8b-80eb-9c8dc9b4b070",
   "metadata": {},
   "source": [
    "#### Get the type of transportation the user wants to use"
   ]
  },
  {
   "cell_type": "code",
   "execution_count": null,
   "id": "9bfaa64b-10ab-4c0b-9991-62982f9258a9",
   "metadata": {},
   "outputs": [],
   "source": [
    "selection = collectTransportation()"
   ]
  },
  {
   "cell_type": "markdown",
   "id": "c6ec07e6-dab2-481d-9926-964f9a38fa9c",
   "metadata": {},
   "source": [
    "#### Create the dictionary of all the location"
   ]
  },
  {
   "cell_type": "code",
   "execution_count": null,
   "id": "62722bb0-3005-4355-927c-617e890bd894",
   "metadata": {},
   "outputs": [],
   "source": [
    "locations_dict = serechForPlaces(getGeoCode(origin_location), RADIUS[0])"
   ]
  },
  {
   "cell_type": "markdown",
   "id": "ea944b86-da66-40f0-9f71-4de63ea6da43",
   "metadata": {},
   "source": [
    "#### Add all the location address to data dict"
   ]
  },
  {
   "cell_type": "code",
   "execution_count": null,
   "id": "fd369915-12f7-4a2e-a651-a2246f462a87",
   "metadata": {},
   "outputs": [],
   "source": [
    "addLocationAddressData(locations_dict)"
   ]
  },
  {
   "cell_type": "markdown",
   "id": "8ef9da5f-bc24-436f-9bd9-76aa8daeab9d",
   "metadata": {},
   "source": [
    "#### Compute the travel time for all location in dict"
   ]
  },
  {
   "cell_type": "code",
   "execution_count": null,
   "id": "449223c8-3541-4d15-baf2-8146fe3d5a91",
   "metadata": {},
   "outputs": [],
   "source": [
    "computeTime(locations_dict, origin_location, MODE_OF_TRANS[selection])"
   ]
  },
  {
   "cell_type": "markdown",
   "id": "f4ba704c-ef50-4ec4-8977-5af07388ab91",
   "metadata": {},
   "source": [
    "#### Remove locations that take longer then 20 min"
   ]
  },
  {
   "cell_type": "code",
   "execution_count": null,
   "id": "0482d35b-997f-4234-8627-94ed991f859d",
   "metadata": {},
   "outputs": [],
   "source": [
    "removeFarLocations(locations_dict)"
   ]
  },
  {
   "cell_type": "markdown",
   "id": "c9ea35cd-54c1-46c9-8ce7-015436ca1fd0",
   "metadata": {},
   "source": [
    "#### Display those locations"
   ]
  },
  {
   "cell_type": "code",
   "execution_count": null,
   "id": "56d1a3ac-b77b-4760-8dfd-e8daf0808ca9",
   "metadata": {},
   "outputs": [],
   "source": [
    "displayPlaces(locations_dict)"
   ]
  }
 ],
 "metadata": {
  "kernelspec": {
   "display_name": "Python 3",
   "language": "python",
   "name": "python3"
  },
  "language_info": {
   "codemirror_mode": {
    "name": "ipython",
    "version": 3
   },
   "file_extension": ".py",
   "mimetype": "text/x-python",
   "name": "python",
   "nbconvert_exporter": "python",
   "pygments_lexer": "ipython3",
   "version": "3.6.8"
  }
 },
 "nbformat": 4,
 "nbformat_minor": 5
}
